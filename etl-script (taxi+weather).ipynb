{
 "cells": [
  {
   "cell_type": "code",
   "execution_count": null,
   "metadata": {
    "application/vnd.databricks.v1+cell": {
     "cellMetadata": {
      "byteLimit": 2048000,
      "rowLimit": 10000
     },
     "inputWidgets": {},
     "nuid": "fe96d188-8a75-47ab-ac30-7114c82feaff",
     "showTitle": false,
     "title": ""
    }
   },
   "outputs": [],
   "source": [
    "# Importing required libraries and functions\n",
    "\n",
    "import os \n",
    "import time\n",
    "import pyspark\n",
    "from pyspark.sql import SparkSession\n",
    "from pyspark.sql import Row\n",
    "from pyspark.sql.functions import sum, col, month, year, dayofweek, dayofmonth, hour, unix_timestamp, median, mode, lit, when"
   ]
  },
  {
   "cell_type": "code",
   "execution_count": null,
   "metadata": {
    "application/vnd.databricks.v1+cell": {
     "cellMetadata": {
      "byteLimit": 2048000,
      "rowLimit": 10000
     },
     "inputWidgets": {},
     "nuid": "0aaf4863-aac2-4c84-88eb-4b84af58063a",
     "showTitle": false,
     "title": ""
    }
   },
   "outputs": [
    {
     "name": "stdout",
     "output_type": "stream",
     "text": [
      "root\n",
      " |-- VendorID: long (nullable = true)\n",
      " |-- lpep_pickup_datetime: timestamp_ntz (nullable = true)\n",
      " |-- lpep_dropoff_datetime: timestamp_ntz (nullable = true)\n",
      " |-- store_and_fwd_flag: string (nullable = true)\n",
      " |-- RatecodeID: double (nullable = true)\n",
      " |-- PULocationID: long (nullable = true)\n",
      " |-- DOLocationID: long (nullable = true)\n",
      " |-- passenger_count: double (nullable = true)\n",
      " |-- trip_distance: double (nullable = true)\n",
      " |-- fare_amount: double (nullable = true)\n",
      " |-- extra: double (nullable = true)\n",
      " |-- mta_tax: double (nullable = true)\n",
      " |-- tip_amount: double (nullable = true)\n",
      " |-- tolls_amount: double (nullable = true)\n",
      " |-- ehail_fee: integer (nullable = true)\n",
      " |-- improvement_surcharge: double (nullable = true)\n",
      " |-- total_amount: double (nullable = true)\n",
      " |-- payment_type: double (nullable = true)\n",
      " |-- trip_type: double (nullable = true)\n",
      " |-- congestion_surcharge: double (nullable = true)\n",
      "\n"
     ]
    }
   ],
   "source": [
    "spark = SparkSession.builder.appName(\"ETL\").master(\"local[*]\").getOrCreate()  \n",
    "\n",
    "# Setting AWS-Access Credentials\n",
    "spark.conf.set(\"fs.s3a.access.key\", str(os.environ['AWS_ACCESS_KEY']))\n",
    "spark.conf.set(\"fs.s3a.secret.key\", str(os.environ['AWS_SECRET_ACCESS_KEY']))\n",
    "spark.conf.set(\"fs.s3a.endpoint\", \"s3.amazonaws.com\")\n",
    "\n",
    "# Read the green taxi parquet files into a DataFrame\n",
    "GREEN_TAXI_PATH = \"s3a://data228/raw-taxi-data/green-taxi/\"\n",
    "green_taxi_df = spark.read.parquet(GREEN_TAXI_PATH)\n",
    "green_taxi_df.printSchema()"
   ]
  },
  {
   "cell_type": "code",
   "execution_count": null,
   "metadata": {
    "application/vnd.databricks.v1+cell": {
     "cellMetadata": {
      "byteLimit": 2048000,
      "rowLimit": 10000
     },
     "inputWidgets": {},
     "nuid": "d30727fc-a565-458a-b5be-b3dcccffca34",
     "showTitle": false,
     "title": ""
    }
   },
   "outputs": [
    {
     "name": "stdout",
     "output_type": "stream",
     "text": [
      "Number of records in Green Taxi data: 1909157\n"
     ]
    }
   ],
   "source": [
    "gc = green_taxi_df.count()\n",
    "print(f\"Number of records in Green Taxi data: {gc}\")"
   ]
  },
  {
   "cell_type": "code",
   "execution_count": null,
   "metadata": {
    "application/vnd.databricks.v1+cell": {
     "cellMetadata": {
      "byteLimit": 2048000,
      "rowLimit": 10000
     },
     "inputWidgets": {},
     "nuid": "3f93ce32-c1e6-46e4-be28-881d57864d12",
     "showTitle": false,
     "title": ""
    }
   },
   "outputs": [
    {
     "name": "stdout",
     "output_type": "stream",
     "text": [
      "root\n",
      " |-- VendorID: long (nullable = true)\n",
      " |-- tpep_pickup_datetime: timestamp_ntz (nullable = true)\n",
      " |-- tpep_dropoff_datetime: timestamp_ntz (nullable = true)\n",
      " |-- passenger_count: double (nullable = true)\n",
      " |-- trip_distance: double (nullable = true)\n",
      " |-- RatecodeID: double (nullable = true)\n",
      " |-- store_and_fwd_flag: string (nullable = true)\n",
      " |-- PULocationID: long (nullable = true)\n",
      " |-- DOLocationID: long (nullable = true)\n",
      " |-- payment_type: long (nullable = true)\n",
      " |-- fare_amount: double (nullable = true)\n",
      " |-- extra: double (nullable = true)\n",
      " |-- mta_tax: double (nullable = true)\n",
      " |-- tip_amount: double (nullable = true)\n",
      " |-- tolls_amount: double (nullable = true)\n",
      " |-- improvement_surcharge: double (nullable = true)\n",
      " |-- total_amount: double (nullable = true)\n",
      " |-- congestion_surcharge: double (nullable = true)\n",
      " |-- airport_fee: double (nullable = true)\n",
      "\n"
     ]
    }
   ],
   "source": [
    "# Read the yellow taxi parquet files into a DataFrame \n",
    "\n",
    "YELLOW_TAXI_PATH = \"s3a://data228/raw-taxi-data/yellow-taxi/\"\n",
    "yellow_taxi_df = spark.read.parquet(YELLOW_TAXI_PATH)\n",
    "yellow_taxi_df.printSchema()"
   ]
  },
  {
   "cell_type": "code",
   "execution_count": null,
   "metadata": {
    "application/vnd.databricks.v1+cell": {
     "cellMetadata": {
      "byteLimit": 2048000,
      "rowLimit": 10000
     },
     "inputWidgets": {},
     "nuid": "8ced3513-bc8d-4bc9-b018-6d6432499d16",
     "showTitle": false,
     "title": ""
    }
   },
   "outputs": [
    {
     "name": "stdout",
     "output_type": "stream",
     "text": [
      "Number of records in Yellow Taxi data: 70560406\n"
     ]
    }
   ],
   "source": [
    "yc = yellow_taxi_df.count()\n",
    "print(f\"Number of records in Yellow Taxi data: {yc}\")"
   ]
  },
  {
   "cell_type": "code",
   "execution_count": null,
   "metadata": {
    "application/vnd.databricks.v1+cell": {
     "cellMetadata": {
      "byteLimit": 2048000,
      "rowLimit": 10000
     },
     "inputWidgets": {},
     "nuid": "14ab54d9-0b47-4830-a8ac-0affa1f4b53c",
     "showTitle": false,
     "title": ""
    }
   },
   "outputs": [
    {
     "name": "stdout",
     "output_type": "stream",
     "text": [
      "root\n",
      " |-- VendorID: long (nullable = true)\n",
      " |-- tpep_pickup_datetime: timestamp_ntz (nullable = true)\n",
      " |-- tpep_dropoff_datetime: timestamp_ntz (nullable = true)\n",
      " |-- store_and_fwd_flag: string (nullable = true)\n",
      " |-- RatecodeID: double (nullable = true)\n",
      " |-- PULocationID: long (nullable = true)\n",
      " |-- DOLocationID: long (nullable = true)\n",
      " |-- passenger_count: double (nullable = true)\n",
      " |-- trip_distance: double (nullable = true)\n",
      " |-- fare_amount: double (nullable = true)\n",
      " |-- extra: double (nullable = true)\n",
      " |-- mta_tax: double (nullable = true)\n",
      " |-- tip_amount: double (nullable = true)\n",
      " |-- tolls_amount: double (nullable = true)\n",
      " |-- ehail_fee: integer (nullable = true)\n",
      " |-- improvement_surcharge: double (nullable = true)\n",
      " |-- total_amount: double (nullable = true)\n",
      " |-- payment_type: double (nullable = true)\n",
      " |-- trip_type: double (nullable = true)\n",
      " |-- congestion_surcharge: double (nullable = true)\n",
      "\n"
     ]
    }
   ],
   "source": [
    "# Making column names consistent on both datasets\n",
    "\n",
    "green_taxi_df = green_taxi_df \\\n",
    "    .withColumnRenamed(\"lpep_pickup_datetime\", \"tpep_pickup_datetime\") \\\n",
    "    .withColumnRenamed( \"lpep_dropoff_datetime\", \"tpep_dropoff_datetime\")\n",
    "\n",
    "green_taxi_df.printSchema()"
   ]
  },
  {
   "cell_type": "code",
   "execution_count": null,
   "metadata": {
    "application/vnd.databricks.v1+cell": {
     "cellMetadata": {
      "byteLimit": 2048000,
      "rowLimit": 10000
     },
     "inputWidgets": {},
     "nuid": "1d881821-e51c-4cfd-b0ee-cbdf2b05f8c3",
     "showTitle": false,
     "title": ""
    }
   },
   "outputs": [],
   "source": [
    "# Removing tip amount from total_amount\n",
    "\n",
    "yellow_taxi_df = yellow_taxi_df.withColumn('total_amount', lit(col('total_amount') - col('tip_amount')))\n",
    "green_taxi_df = green_taxi_df.withColumn('total_amount', lit(col('total_amount') - col('tip_amount')))"
   ]
  },
  {
   "cell_type": "code",
   "execution_count": null,
   "metadata": {
    "application/vnd.databricks.v1+cell": {
     "cellMetadata": {
      "byteLimit": 2048000,
      "rowLimit": 10000
     },
     "inputWidgets": {},
     "nuid": "2888b55a-edad-44a7-a76c-1d2ac071b008",
     "showTitle": false,
     "title": ""
    }
   },
   "outputs": [],
   "source": [
    "# Selecting only required columns (feature engineering)\n",
    "\n",
    "yellow_df = yellow_taxi_df.select(col('tpep_pickup_datetime'), col('tpep_dropoff_datetime'), col('passenger_count'), col('trip_distance'), col('PULocationID'), col('DOLocationID'), col('payment_type'), col('total_amount'))\n",
    "green_df = green_taxi_df.select(col('tpep_pickup_datetime'), col('tpep_dropoff_datetime'), col('passenger_count'), col('trip_distance'), col('PULocationID'), col('DOLocationID'), col('payment_type'), col('total_amount'))"
   ]
  },
  {
   "cell_type": "code",
   "execution_count": null,
   "metadata": {
    "application/vnd.databricks.v1+cell": {
     "cellMetadata": {
      "byteLimit": 2048000,
      "rowLimit": 10000
     },
     "inputWidgets": {},
     "nuid": "225932eb-b287-417c-890b-e7a9d9df884a",
     "showTitle": false,
     "title": ""
    }
   },
   "outputs": [
    {
     "name": "stdout",
     "output_type": "stream",
     "text": [
      "+--------------------+---------------------+---------------+-------------+------------+------------+------------+------------+\n",
      "|tpep_pickup_datetime|tpep_dropoff_datetime|passenger_count|trip_distance|PULocationID|DOLocationID|payment_type|total_amount|\n",
      "+--------------------+---------------------+---------------+-------------+------------+------------+------------+------------+\n",
      "|                   0|                    0|        3349772|            0|           0|           0|      502774|           0|\n",
      "+--------------------+---------------------+---------------+-------------+------------+------------+------------+------------+\n",
      "\n"
     ]
    }
   ],
   "source": [
    "# Merging green and yellow taxi data\n",
    "merged_df = yellow_df.unionByName(green_df)\n",
    "\n",
    "# Find the number of records with null values\n",
    "null_counts = merged_df.select([sum(col(column).isNull().cast(\"int\")).alias(column) for column in merged_df.columns])\n",
    "null_counts.show()"
   ]
  },
  {
   "cell_type": "code",
   "execution_count": null,
   "metadata": {
    "application/vnd.databricks.v1+cell": {
     "cellMetadata": {
      "byteLimit": 2048000,
      "rowLimit": 10000
     },
     "inputWidgets": {},
     "nuid": "42ff2977-56b0-4fd4-b470-4b04d1ff78e0",
     "showTitle": false,
     "title": ""
    }
   },
   "outputs": [
    {
     "name": "stdout",
     "output_type": "stream",
     "text": [
      "+-----------------------+------------------+\n",
      "|median(passenger_count)|mode(payment_type)|\n",
      "+-----------------------+------------------+\n",
      "|                    1.0|               1.0|\n",
      "+-----------------------+------------------+\n",
      "\n"
     ]
    }
   ],
   "source": [
    "merged_df.select(median('passenger_count'), mode('payment_type')).show()"
   ]
  },
  {
   "cell_type": "code",
   "execution_count": null,
   "metadata": {
    "application/vnd.databricks.v1+cell": {
     "cellMetadata": {
      "byteLimit": 2048000,
      "rowLimit": 10000
     },
     "inputWidgets": {},
     "nuid": "cd5e2b89-5a60-49d2-87b9-eb1dd4939872",
     "showTitle": false,
     "title": ""
    }
   },
   "outputs": [],
   "source": [
    "# Since the number of records is relatively minimal, we'll impute these missing values with median/mode values\n",
    "\n",
    "df = merged_df.withColumn('passenger_count', when(col('passenger_count').isNull(), lit(1)).otherwise(col('passenger_count'))) \\\n",
    "    .withColumn('payment_type', when(col('payment_type').isNull(), lit(1)).otherwise(col('payment_type')))"
   ]
  },
  {
   "cell_type": "code",
   "execution_count": null,
   "metadata": {
    "application/vnd.databricks.v1+cell": {
     "cellMetadata": {
      "byteLimit": 2048000,
      "rowLimit": 10000
     },
     "inputWidgets": {},
     "nuid": "c0654e38-241b-43ff-92d0-b9f2cb15a3f8",
     "showTitle": false,
     "title": ""
    }
   },
   "outputs": [],
   "source": [
    "# Creating trip_duration field in seconds\n",
    "\n",
    "df = df \\\n",
    "    .withColumn(\"trip_duration\", (unix_timestamp(\"tpep_dropoff_datetime\") - unix_timestamp(\"tpep_pickup_datetime\"))) \\\n",
    "    .withColumn('year', year(\"tpep_pickup_datetime\")) \\\n",
    "    .withColumn('month', month(\"tpep_pickup_datetime\")) \\\n",
    "    .withColumn('weekend', when((dayofweek(\"tpep_pickup_datetime\") == 1) | (dayofweek(\"tpep_pickup_datetime\") == 7), lit(1)).otherwise(lit(0))) \\\n",
    "    .withColumn('date', dayofmonth(\"tpep_pickup_datetime\")) \\\n",
    "    .withColumn('hour', hour(\"tpep_pickup_datetime\"))\n"
   ]
  },
  {
   "cell_type": "code",
   "execution_count": null,
   "metadata": {
    "application/vnd.databricks.v1+cell": {
     "cellMetadata": {
      "byteLimit": 2048000,
      "rowLimit": 10000
     },
     "inputWidgets": {},
     "nuid": "015288d9-0b0a-4176-ab5f-0f15ec843f80",
     "showTitle": false,
     "title": ""
    }
   },
   "outputs": [
    {
     "name": "stdout",
     "output_type": "stream",
     "text": [
      "+-------+-----------------+-----------------+------------------+------------------+\n",
      "|summary|  passenger_count|    trip_distance|      total_amount|     trip_duration|\n",
      "+-------+-----------------+-----------------+------------------+------------------+\n",
      "|  count|         72469563|         72469563|          72469563|          72469563|\n",
      "|   mean|1.390948486884073|9.368861344038088|15.837589910634756|2216.1962188456964|\n",
      "|    min|              0.0|              0.0|    -1.333914107E8|          -8105078|\n",
      "|    25%|              1.0|              1.1|              10.3|               427|\n",
      "|    75%|              1.0|             3.48|             19.63|              1143|\n",
      "|    99%|              6.0|            20.02| 67.60000000000001|              3889|\n",
      "|  99.9%|              6.0|             29.8|             120.3|             84112|\n",
      "|    max|            112.0|        389678.46|         818286.74|         619323311|\n",
      "+-------+-----------------+-----------------+------------------+------------------+\n",
      "\n"
     ]
    }
   ],
   "source": [
    "# Summary Statistics of few important columns\n",
    "\n",
    "df.select('passenger_count', 'trip_distance', 'total_amount', 'trip_duration').summary(\"count\", \"mean\", \"min\", \"25%\", \"75%\", \"99%\", \"99.9%\", \"max\").show()"
   ]
  },
  {
   "cell_type": "markdown",
   "metadata": {
    "application/vnd.databricks.v1+cell": {
     "cellMetadata": {},
     "inputWidgets": {},
     "nuid": "d9a964c0-2447-4be1-8277-1103d45db51c",
     "showTitle": false,
     "title": ""
    }
   },
   "source": [
    "#### Few Observations from this summary statistics\n",
    "- We can see outliers in few columns\n",
    "- Maximum paassenger_count is **112**. Is it a taxi or bus?\n",
    "- Maximum trip duration is **619M** seconds\n",
    "- Total amount in negatives? And max amount is over **$800K**? Taxi trip to Moon? \n",
    "\n",
    "Next step is to remove these outliers"
   ]
  },
  {
   "cell_type": "code",
   "execution_count": null,
   "metadata": {
    "application/vnd.databricks.v1+cell": {
     "cellMetadata": {
      "byteLimit": 2048000,
      "rowLimit": 10000
     },
     "inputWidgets": {},
     "nuid": "0620e4db-3b66-4c8c-8608-10e45e97406e",
     "showTitle": false,
     "title": ""
    }
   },
   "outputs": [
    {
     "name": "stdout",
     "output_type": "stream",
     "text": [
      "Number of records after removing outliers: 68891849\n"
     ]
    }
   ],
   "source": [
    "# Filtering out outliers\n",
    "\n",
    "# Filter records with passenger_count between 0 and 7\n",
    "df = df.filter(df['passenger_count'] <= 7) \\\n",
    "    .filter(df['passenger_count'] > 0)\n",
    "\n",
    "# Filter records with trip_distance more than 70 miles\n",
    "df = df.filter(df['trip_distance'] < 70) \\\n",
    "    .filter(df['trip_distance'] > 0.25)\n",
    "\n",
    "# Filtering out records with sub zero total_amount and more than $500\n",
    "df = df.filter(df['total_amount'] > 0) \\\n",
    "    .filter(df['total_amount'] < 500)\n",
    "\n",
    "# Filtering out records with duration less than 1 minute or more than 5hrs\n",
    "df = df.filter(df['trip_duration'] > 60) \\\n",
    "    .filter(df['trip_duration'] < 18000)\n",
    "\n",
    "df = df.filter(df['year'] <= 2023) \\\n",
    "    .filter(df['year'] > 2018)\n",
    "\n",
    "c = df.count()\n",
    "print(f\"Number of records after removing outliers: {c}\")"
   ]
  },
  {
   "cell_type": "code",
   "execution_count": null,
   "metadata": {
    "application/vnd.databricks.v1+cell": {
     "cellMetadata": {
      "byteLimit": 2048000,
      "rowLimit": 10000
     },
     "inputWidgets": {},
     "nuid": "a4d268dc-ccc8-436a-873c-1f904349db17",
     "showTitle": false,
     "title": ""
    }
   },
   "outputs": [
    {
     "data": {
      "text/html": [
       "<style scoped>\n",
       "  .table-result-container {\n",
       "    max-height: 300px;\n",
       "    overflow: auto;\n",
       "  }\n",
       "  table, th, td {\n",
       "    border: 1px solid black;\n",
       "    border-collapse: collapse;\n",
       "  }\n",
       "  th, td {\n",
       "    padding: 5px;\n",
       "  }\n",
       "  th {\n",
       "    text-align: left;\n",
       "  }\n",
       "</style><div class='table-result-container'><table class='table-result'><thead style='background-color: white'><tr><th>year</th><th>month</th><th>sum(total_amount)</th><th>sum(passenger_count)</th><th>sum(trip_distance)</th></tr></thead><tbody><tr><td>2022</td><td>10</td><td>6.885363204656516E7</td><td>4962217.0</td><td>1.3123310930000668E7</td></tr><tr><td>2022</td><td>2</td><td>4.953080734898312E7</td><td>4093472.0</td><td>9165898.999999082</td></tr><tr><td>2022</td><td>11</td><td>6.056083980765324E7</td><td>4407348.0</td><td>1.146978568000014E7</td></tr><tr><td>2022</td><td>3</td><td>6.3434998327058904E7</td><td>4965689.0</td><td>1.2037523720000518E7</td></tr><tr><td>2022</td><td>5</td><td>6.717364115697E7</td><td>4905466.0</td><td>1.2972053440000756E7</td></tr><tr><td>2022</td><td>9</td><td>6.0996660607714824E7</td><td>4318436.0</td><td>1.169427119000073E7</td></tr><tr><td>2022</td><td>4</td><td>6.476951470700639E7</td><td>5004934.0</td><td>1.2404447259999676E7</td></tr><tr><td>2022</td><td>12</td><td>7.109628053988962E7</td><td>4699547.0</td><td>1.1989602089999825E7</td></tr><tr><td>2023</td><td>1</td><td>83.8</td><td>9.0</td><td>8.6</td></tr><tr><td>2022</td><td>7</td><td>5.7776307767914385E7</td><td>4436571.0</td><td>1.1361056989999546E7</td></tr><tr><td>2022</td><td>8</td><td>5.778558984796955E7</td><td>4390120.0</td><td>1.139830952999942E7</td></tr><tr><td>2021</td><td>8</td><td>4.91250111894528E7</td><td>3948469.0</td><td>9694479.05999897</td></tr><tr><td>2021</td><td>10</td><td>6.1182182237582006E7</td><td>4887856.0</td><td>1.1338253379999444E7</td></tr><tr><td>2021</td><td>9</td><td>5.302213373888891E7</td><td>4151659.0</td><td>1.0087952809999473E7</td></tr><tr><td>2022</td><td>6</td><td>6.587529050696845E7</td><td>4864905.0</td><td>1.26263020499991E7</td></tr><tr><td>2021</td><td>5</td><td>4.17691406205889E7</td><td>3516888.0</td><td>7838775.48999962</td></tr><tr><td>2020</td><td>12</td><td>270.50000000000006</td><td>15.0</td><td>65.55</td></tr><tr><td>2021</td><td>3</td><td>3.0751954210787825E7</td><td>2665222.0</td><td>5671809.2400000105</td></tr><tr><td>2021</td><td>2</td><td>2.1823281370404325E7</td><td>1905241.0</td><td>3994403.309999741</td></tr><tr><td>2021</td><td>1</td><td>2.1856278370402947E7</td><td>1916775.0</td><td>4171989.0299998345</td></tr><tr><td>2021</td><td>4</td><td>3.563301515098651E7</td><td>3014299.0</td><td>6609487.269999686</td></tr><tr><td>2021</td><td>6</td><td>4.809545313947886E7</td><td>4020453.0</td><td>8969035.789999673</td></tr><tr><td>2021</td><td>12</td><td>5.8236777157954015E7</td><td>4587700.0</td><td>1.1052391860000312E7</td></tr><tr><td>2022</td><td>1</td><td>4.002661146036048E7</td><td>3385952.0</td><td>7636680.6599998195</td></tr><tr><td>2021</td><td>11</td><td>6.245301702748712E7</td><td>4892142.0</td><td>1.1673270999999361E7</td></tr><tr><td>2021</td><td>7</td><td>4.9004469589395E7</td><td>4055156.0</td><td>9500570.629999103</td></tr></tbody></table></div>"
      ]
     },
     "metadata": {
      "application/vnd.databricks.v1+output": {
       "addedWidgets": {},
       "aggData": [],
       "aggError": "",
       "aggOverflow": false,
       "aggSchema": [],
       "aggSeriesLimitReached": false,
       "aggType": "",
       "arguments": {},
       "columnCustomDisplayInfos": {},
       "data": [
        [
         2022,
         10,
         68853632.04656516,
         4962217,
         13123310.930000668
        ],
        [
         2022,
         2,
         49530807.34898312,
         4093472,
         9165898.999999082
        ],
        [
         2022,
         11,
         60560839.80765324,
         4407348,
         11469785.68000014
        ],
        [
         2022,
         3,
         63434998.327058904,
         4965689,
         12037523.720000518
        ],
        [
         2022,
         5,
         67173641.15697,
         4905466,
         12972053.440000756
        ],
        [
         2022,
         9,
         60996660.607714824,
         4318436,
         11694271.19000073
        ],
        [
         2022,
         4,
         64769514.70700639,
         5004934,
         12404447.259999676
        ],
        [
         2022,
         12,
         71096280.53988962,
         4699547,
         11989602.089999825
        ],
        [
         2023,
         1,
         83.8,
         9,
         8.6
        ],
        [
         2022,
         7,
         57776307.767914385,
         4436571,
         11361056.989999546
        ],
        [
         2022,
         8,
         57785589.84796955,
         4390120,
         11398309.52999942
        ],
        [
         2021,
         8,
         49125011.1894528,
         3948469,
         9694479.05999897
        ],
        [
         2021,
         10,
         61182182.237582006,
         4887856,
         11338253.379999444
        ],
        [
         2021,
         9,
         53022133.73888891,
         4151659,
         10087952.809999473
        ],
        [
         2022,
         6,
         65875290.50696845,
         4864905,
         12626302.0499991
        ],
        [
         2021,
         5,
         41769140.6205889,
         3516888,
         7838775.48999962
        ],
        [
         2020,
         12,
         270.50000000000006,
         15,
         65.55
        ],
        [
         2021,
         3,
         30751954.210787825,
         2665222,
         5671809.2400000105
        ],
        [
         2021,
         2,
         21823281.370404325,
         1905241,
         3994403.309999741
        ],
        [
         2021,
         1,
         21856278.370402947,
         1916775,
         4171989.0299998345
        ],
        [
         2021,
         4,
         35633015.15098651,
         3014299,
         6609487.269999686
        ],
        [
         2021,
         6,
         48095453.13947886,
         4020453,
         8969035.789999673
        ],
        [
         2021,
         12,
         58236777.157954015,
         4587700,
         11052391.860000312
        ],
        [
         2022,
         1,
         40026611.46036048,
         3385952,
         7636680.6599998195
        ],
        [
         2021,
         11,
         62453017.02748712,
         4892142,
         11673270.999999361
        ],
        [
         2021,
         7,
         49004469.589395,
         4055156,
         9500570.629999103
        ]
       ],
       "datasetInfos": [],
       "dbfsResultPath": null,
       "isJsonSchema": true,
       "metadata": {},
       "overflow": false,
       "plotOptions": {
        "customPlotOptions": {},
        "displayType": "table",
        "pivotAggregation": null,
        "pivotColumns": null,
        "xColumns": null,
        "yColumns": null
       },
       "removedWidgets": [],
       "schema": [
        {
         "metadata": "{}",
         "name": "year",
         "type": "\"integer\""
        },
        {
         "metadata": "{}",
         "name": "month",
         "type": "\"integer\""
        },
        {
         "metadata": "{\"__autoGeneratedAlias\":\"true\"}",
         "name": "sum(total_amount)",
         "type": "\"double\""
        },
        {
         "metadata": "{\"__autoGeneratedAlias\":\"true\"}",
         "name": "sum(passenger_count)",
         "type": "\"double\""
        },
        {
         "metadata": "{\"__autoGeneratedAlias\":\"true\"}",
         "name": "sum(trip_distance)",
         "type": "\"double\""
        }
       ],
       "type": "table"
      }
     },
     "output_type": "display_data"
    },
    {
     "data": {
      "text/plain": [
       "Databricks visualization. Run in Databricks to view."
      ]
     },
     "metadata": {
      "application/vnd.databricks.v1.subcommand+json": {
       "bindings": {},
       "collapsed": false,
       "command": "%python\n__backend_agg_display_orig = display\n__backend_agg_dfs = []\ndef __backend_agg_display_new(df):\n    __backend_agg_df_modules = [\"pandas.core.frame\", \"databricks.koalas.frame\", \"pyspark.sql.dataframe\", \"pyspark.pandas.frame\", \"pyspark.sql.connect.dataframe\"]\n    if (type(df).__module__ in __backend_agg_df_modules and type(df).__name__ == 'DataFrame') or isinstance(df, list):\n        __backend_agg_dfs.append(df)\n\ndisplay = __backend_agg_display_new\n\ndef __backend_agg_user_code_fn():\n    import base64\n    exec(base64.standard_b64decode(\"IyBHcm91cCBieSB5ZWFyIGFuZCBtb250aCBhbmQgcGVyZm9ybSBhZ2dyZWdhdGlvbgoKYWdncmVnYXRlZF9kYXRhID0gZGYuZ3JvdXBCeSh5ZWFyKCd0cGVwX3BpY2t1cF9kYXRldGltZScpLmFsaWFzKCd5ZWFyJyksIG1vbnRoKCd0cGVwX3BpY2t1cF9kYXRldGltZScpLmFsaWFzKCdtb250aCcpKSBcCiAgICAuYWdnKHsKICAgICAgICAncGFzc2VuZ2VyX2NvdW50JyA6ICdjb3VudCcsCiAgICAgICAgJ3Bhc3Nlbmdlcl9jb3VudCcgOiAnc3VtJywKICAgICAgICAndG90YWxfYW1vdW50JzogJ3N1bScsCiAgICAgICAgJ3RyaXBfZGlzdGFuY2UnOiAnc3VtJwogICAgfSkKCmRpc3BsYXkoYWdncmVnYXRlZF9kYXRhKQ==\").decode())\n\ntry:\n    # run user code\n    __backend_agg_user_code_fn()\n\n    #reset display function\n    display = __backend_agg_display_orig\n\n    if len(__backend_agg_dfs) > 0:\n        # create a temp view\n        if type(__backend_agg_dfs[0]).__module__ == \"databricks.koalas.frame\":\n            # koalas dataframe\n            __backend_agg_dfs[0].to_spark().createOrReplaceTempView(\"DatabricksView3942b72\")\n        elif type(__backend_agg_dfs[0]).__module__ == \"pandas.core.frame\" or isinstance(__backend_agg_dfs[0], list):\n            # pandas dataframe\n            spark.createDataFrame(__backend_agg_dfs[0]).createOrReplaceTempView(\"DatabricksView3942b72\")\n        else:\n            __backend_agg_dfs[0].createOrReplaceTempView(\"DatabricksView3942b72\")\n        #run backend agg\n        display(spark.sql(\"\"\"WITH q AS (select * from DatabricksView3942b72) SELECT `year`,SUM(`sum(passenger_count)`) `column_e3585fff92` FROM q GROUP BY `year`\"\"\"))\n    else:\n        displayHTML(\"dataframe no longer exists. If you're using dataframe.display(), use display(dataframe) instead.\")\n\n\nfinally:\n    spark.sql(\"drop view if exists DatabricksView3942b72\")\n    display = __backend_agg_display_orig\n    del __backend_agg_display_new\n    del __backend_agg_display_orig\n    del __backend_agg_dfs\n    del __backend_agg_user_code_fn\n\n",
       "commandTitle": "monthly average revenue",
       "commandType": "auto",
       "commandVersion": 0,
       "commentThread": [],
       "commentsVisible": false,
       "contentSha256Hex": null,
       "customPlotOptions": {
        "redashChart": [
         {
          "key": "type",
          "value": "CHART"
         },
         {
          "key": "options",
          "value": {
           "alignYAxesAtZero": true,
           "coefficient": 1,
           "columnConfigurationMap": {
            "x": {
             "column": "month",
             "id": "column_e3585fff130"
            },
            "y": [
             {
              "column": "sum(total_amount)",
              "id": "column_e3585fff132",
              "transform": "AVG"
             }
            ]
           },
           "dateTimeFormat": "DD/MM/YYYY HH:mm",
           "direction": {
            "type": "counterclockwise"
           },
           "error_y": {
            "type": "data",
            "visible": true
           },
           "globalSeriesType": "column",
           "isAggregationOn": true,
           "legend": {
            "traceorder": "normal"
           },
           "missingValuesAsZero": true,
           "numberFormat": "0,0[.]00000",
           "percentFormat": "0[.]00%",
           "series": {
            "error_y": {
             "type": "data",
             "visible": true
            },
            "stacking": null
           },
           "seriesOptions": {
            "column_e3585fff132": {
             "color": "#799CFF",
             "type": "column",
             "yAxis": 0
            }
           },
           "showDataLabels": false,
           "sizemode": "diameter",
           "sortX": true,
           "sortY": true,
           "swappedAxes": false,
           "textFormat": "",
           "useAggregationsUi": true,
           "valuesOptions": {},
           "version": 2,
           "xAxis": {
            "labels": {
             "enabled": true
            },
            "title": {
             "text": "Month"
            },
            "type": "category"
           },
           "yAxis": [
            {
             "title": {
              "text": "Average Revenue (in $)"
             },
             "type": "linear"
            },
            {
             "opposite": true,
             "type": "-"
            }
           ]
          }
         }
        ]
       },
       "datasetPreviewNameToCmdIdMap": {},
       "diffDeletes": [],
       "diffInserts": [],
       "displayType": "redashChart",
       "error": null,
       "errorSummary": null,
       "errorTraceType": null,
       "finishTime": 0,
       "globalVars": {},
       "guid": "",
       "height": "auto",
       "hideCommandCode": false,
       "hideCommandResult": false,
       "iPythonMetadata": null,
       "inputWidgets": {},
       "isLockedInExamMode": false,
       "latestUser": "a user",
       "latestUserId": null,
       "listResultMetadata": null,
       "metadata": {},
       "nuid": "47095d24-2a37-4c2e-90e0-e06c9b56a966",
       "origId": 0,
       "parentHierarchy": [],
       "pivotAggregation": null,
       "pivotColumns": null,
       "position": 14.9951171875,
       "resultDbfsErrorMessage": null,
       "resultDbfsStatus": "INLINED_IN_TREE",
       "results": null,
       "showCommandTitle": false,
       "startTime": 0,
       "state": "input",
       "streamStates": {},
       "subcommandOptions": {
        "queryPlan": {
         "groups": [
          {
           "column": "month",
           "type": "column"
          }
         ],
         "selects": [
          {
           "column": "month",
           "type": "column"
          },
          {
           "alias": "column_e3585fff132",
           "args": [
            {
             "column": "sum(total_amount)",
             "type": "column"
            }
           ],
           "function": "AVG",
           "type": "function"
          }
         ]
        }
       },
       "submitTime": 0,
       "subtype": "tableResultSubCmd.visualization",
       "tableResultIndex": 0,
       "useConsistentColors": false,
       "version": "CommandV1",
       "width": "auto",
       "workflows": [],
       "xColumns": null,
       "yColumns": null
      }
     },
     "output_type": "display_data"
    },
    {
     "data": {
      "text/plain": [
       "Databricks visualization. Run in Databricks to view."
      ]
     },
     "metadata": {
      "application/vnd.databricks.v1.subcommand+json": {
       "bindings": {},
       "collapsed": false,
       "command": "%python\n__backend_agg_display_orig = display\n__backend_agg_dfs = []\ndef __backend_agg_display_new(df):\n    __backend_agg_df_modules = [\"pandas.core.frame\", \"databricks.koalas.frame\", \"pyspark.sql.dataframe\", \"pyspark.pandas.frame\", \"pyspark.sql.connect.dataframe\"]\n    if (type(df).__module__ in __backend_agg_df_modules and type(df).__name__ == 'DataFrame') or isinstance(df, list):\n        __backend_agg_dfs.append(df)\n\ndisplay = __backend_agg_display_new\n\ndef __backend_agg_user_code_fn():\n    import base64\n    exec(base64.standard_b64decode(\"IyBHcm91cCBieSB5ZWFyIGFuZCBtb250aCBhbmQgcGVyZm9ybSBhZ2dyZWdhdGlvbgoKYWdncmVnYXRlZF9kYXRhID0gZGYuZ3JvdXBCeSh5ZWFyKCd0cGVwX3BpY2t1cF9kYXRldGltZScpLmFsaWFzKCd5ZWFyJyksIG1vbnRoKCd0cGVwX3BpY2t1cF9kYXRldGltZScpLmFsaWFzKCdtb250aCcpKSBcCiAgICAuYWdnKHsKICAgICAgICAncGFzc2VuZ2VyX2NvdW50JyA6ICdjb3VudCcsCiAgICAgICAgJ3Bhc3Nlbmdlcl9jb3VudCcgOiAnc3VtJywKICAgICAgICAndG90YWxfYW1vdW50JzogJ3N1bScsCiAgICAgICAgJ3RyaXBfZGlzdGFuY2UnOiAnc3VtJwogICAgfSkKCmRpc3BsYXkoYWdncmVnYXRlZF9kYXRhKQ==\").decode())\n\ntry:\n    # run user code\n    __backend_agg_user_code_fn()\n\n    #reset display function\n    display = __backend_agg_display_orig\n\n    if len(__backend_agg_dfs) > 0:\n        # create a temp view\n        if type(__backend_agg_dfs[0]).__module__ == \"databricks.koalas.frame\":\n            # koalas dataframe\n            __backend_agg_dfs[0].to_spark().createOrReplaceTempView(\"DatabricksViewdc2bb65\")\n        elif type(__backend_agg_dfs[0]).__module__ == \"pandas.core.frame\" or isinstance(__backend_agg_dfs[0], list):\n            # pandas dataframe\n            spark.createDataFrame(__backend_agg_dfs[0]).createOrReplaceTempView(\"DatabricksViewdc2bb65\")\n        else:\n            __backend_agg_dfs[0].createOrReplaceTempView(\"DatabricksViewdc2bb65\")\n        #run backend agg\n        display(spark.sql(\"\"\"WITH q AS (select * from DatabricksViewdc2bb65) SELECT `year`,SUM(`sum(passenger_count)`) `column_e3585fff190` FROM q GROUP BY `year`\"\"\"))\n    else:\n        displayHTML(\"dataframe no longer exists. If you're using dataframe.display(), use display(dataframe) instead.\")\n\n\nfinally:\n    spark.sql(\"drop view if exists DatabricksViewdc2bb65\")\n    display = __backend_agg_display_orig\n    del __backend_agg_display_new\n    del __backend_agg_display_orig\n    del __backend_agg_dfs\n    del __backend_agg_user_code_fn\n\n",
       "commandTitle": "yearly passenger count",
       "commandType": "auto",
       "commandVersion": 0,
       "commentThread": [],
       "commentsVisible": false,
       "contentSha256Hex": null,
       "customPlotOptions": {
        "redashChart": [
         {
          "key": "type",
          "value": "CHART"
         },
         {
          "key": "options",
          "value": {
           "alignYAxesAtZero": true,
           "coefficient": 1,
           "columnConfigurationMap": {
            "x": {
             "column": "year",
             "id": "column_e3585fff192"
            },
            "y": [
             {
              "column": "sum(passenger_count)",
              "id": "column_e3585fff190",
              "transform": "SUM"
             }
            ]
           },
           "dateTimeFormat": "DD/MM/YYYY HH:mm",
           "direction": {
            "type": "counterclockwise"
           },
           "error_y": {
            "type": "data",
            "visible": true
           },
           "globalSeriesType": "column",
           "isAggregationOn": true,
           "legend": {
            "traceorder": "normal"
           },
           "missingValuesAsZero": false,
           "numberFormat": "0,0[.]00000",
           "percentFormat": "0[.]00%",
           "series": {
            "error_y": {
             "type": "data",
             "visible": true
            },
            "percentValues": false,
            "stacking": null
           },
           "seriesOptions": {
            "column_e3585fff178": {
             "type": "column",
             "yAxis": 0
            },
            "column_e3585fff190": {
             "color": "#FB8D3D",
             "type": "column",
             "yAxis": 0
            }
           },
           "showDataLabels": false,
           "sizemode": "diameter",
           "sortX": true,
           "sortY": true,
           "swappedAxes": false,
           "textFormat": "",
           "useAggregationsUi": true,
           "valuesOptions": {},
           "version": 2,
           "xAxis": {
            "labels": {
             "enabled": true
            },
            "title": {
             "text": "Year"
            },
            "type": "category"
           },
           "yAxis": [
            {
             "title": {
              "text": "Total Passengers Count"
             },
             "type": "-"
            },
            {
             "opposite": true,
             "type": "-"
            }
           ]
          }
         }
        ]
       },
       "datasetPreviewNameToCmdIdMap": {},
       "diffDeletes": [],
       "diffInserts": [],
       "displayType": "redashChart",
       "error": null,
       "errorSummary": null,
       "errorTraceType": null,
       "finishTime": 0,
       "globalVars": {},
       "guid": "",
       "height": "auto",
       "hideCommandCode": false,
       "hideCommandResult": false,
       "iPythonMetadata": null,
       "inputWidgets": {},
       "isLockedInExamMode": false,
       "latestUser": "a user",
       "latestUserId": null,
       "listResultMetadata": null,
       "metadata": {},
       "nuid": "26700839-223a-40df-aa6d-bc899f956882",
       "origId": 0,
       "parentHierarchy": [],
       "pivotAggregation": null,
       "pivotColumns": null,
       "position": 15.9951171875,
       "resultDbfsErrorMessage": null,
       "resultDbfsStatus": "INLINED_IN_TREE",
       "results": null,
       "showCommandTitle": false,
       "startTime": 0,
       "state": "input",
       "streamStates": {},
       "subcommandOptions": {
        "queryPlan": {
         "groups": [
          {
           "column": "year",
           "type": "column"
          }
         ],
         "selects": [
          {
           "column": "year",
           "type": "column"
          },
          {
           "alias": "column_e3585fff190",
           "args": [
            {
             "column": "sum(passenger_count)",
             "type": "column"
            }
           ],
           "function": "SUM",
           "type": "function"
          }
         ]
        }
       },
       "submitTime": 0,
       "subtype": "tableResultSubCmd.visualization",
       "tableResultIndex": 0,
       "useConsistentColors": false,
       "version": "CommandV1",
       "width": "auto",
       "workflows": [],
       "xColumns": null,
       "yColumns": null
      }
     },
     "output_type": "display_data"
    }
   ],
   "source": [
    "# Group by year and month and perform aggregation\n",
    "\n",
    "aggregated_data = df.groupBy(year('tpep_pickup_datetime').alias('year'), month('tpep_pickup_datetime').alias('month')) \\\n",
    "    .agg({\n",
    "        'passenger_count' : 'count',\n",
    "        'passenger_count' : 'sum',\n",
    "        'total_amount': 'sum',\n",
    "        'trip_distance': 'sum'\n",
    "    })\n",
    "\n",
    "display(aggregated_data)"
   ]
  },
  {
   "cell_type": "code",
   "execution_count": null,
   "metadata": {
    "application/vnd.databricks.v1+cell": {
     "cellMetadata": {
      "byteLimit": 2048000,
      "rowLimit": 10000
     },
     "inputWidgets": {},
     "nuid": "b486e37f-2ed2-408b-ae80-ef6a13077f5e",
     "showTitle": false,
     "title": ""
    }
   },
   "outputs": [
    {
     "name": "stdout",
     "output_type": "stream",
     "text": [
      "root\n",
      " |-- name: string (nullable = true)\n",
      " |-- datetime: timestamp (nullable = true)\n",
      " |-- temp: double (nullable = true)\n",
      " |-- feelslike: double (nullable = true)\n",
      " |-- dew: double (nullable = true)\n",
      " |-- humidity: double (nullable = true)\n",
      " |-- precip: double (nullable = true)\n",
      " |-- precipprob: integer (nullable = true)\n",
      " |-- preciptype: string (nullable = true)\n",
      " |-- snow: double (nullable = true)\n",
      " |-- snowdepth: double (nullable = true)\n",
      " |-- windgust: double (nullable = true)\n",
      " |-- windspeed: double (nullable = true)\n",
      " |-- winddir: double (nullable = true)\n",
      " |-- sealevelpressure: double (nullable = true)\n",
      " |-- cloudcover: double (nullable = true)\n",
      " |-- visibility: double (nullable = true)\n",
      " |-- solarradiation: double (nullable = true)\n",
      " |-- solarenergy: double (nullable = true)\n",
      " |-- uvindex: integer (nullable = true)\n",
      " |-- severerisk: integer (nullable = true)\n",
      " |-- conditions: string (nullable = true)\n",
      " |-- icon: string (nullable = true)\n",
      " |-- stations: string (nullable = true)\n",
      "\n"
     ]
    }
   ],
   "source": [
    "# Reading historical weather data\n",
    "\n",
    "WEATHER_PATH = \"s3://data228/raw-weather-data/weather.csv\"\n",
    "weather_df = spark.read.csv(WEATHER_PATH, header=True, inferSchema=True)\n",
    "weather_df.printSchema()"
   ]
  },
  {
   "cell_type": "code",
   "execution_count": null,
   "metadata": {
    "application/vnd.databricks.v1+cell": {
     "cellMetadata": {
      "byteLimit": 2048000,
      "rowLimit": 10000
     },
     "inputWidgets": {},
     "nuid": "1fa83be3-1c93-4767-bf2b-5b5a13ec2e3b",
     "showTitle": false,
     "title": ""
    }
   },
   "outputs": [
    {
     "name": "stdout",
     "output_type": "stream",
     "text": [
      "+-------------------+----+----+--------+---------+----------+\n",
      "|           datetime|temp| dew|humidity|windspeed|visibility|\n",
      "+-------------------+----+----+--------+---------+----------+\n",
      "|2021-01-01 00:00:00|37.1|25.9|   63.58|      7.8|       9.9|\n",
      "|2021-01-01 01:00:00|37.1|25.9|   63.58|      0.1|       9.9|\n",
      "|2021-01-01 02:00:00|37.1|25.0|    61.3|      0.3|       9.9|\n",
      "|2021-01-01 03:00:00|37.0|25.0|   61.33|      8.9|       9.9|\n",
      "|2021-01-01 04:00:00|37.0|24.9|   61.24|     10.0|       9.9|\n",
      "+-------------------+----+----+--------+---------+----------+\n",
      "only showing top 5 rows\n",
      "\n"
     ]
    }
   ],
   "source": [
    "weather_df = weather_df.select('datetime', 'temp', 'dew', 'humidity', 'windspeed', 'visibility')\n",
    "weather_df.show(5)"
   ]
  },
  {
   "cell_type": "code",
   "execution_count": null,
   "metadata": {
    "application/vnd.databricks.v1+cell": {
     "cellMetadata": {
      "byteLimit": 2048000,
      "rowLimit": 10000
     },
     "inputWidgets": {},
     "nuid": "98b65619-49f3-4a7f-8934-b63c6a816124",
     "showTitle": false,
     "title": ""
    }
   },
   "outputs": [],
   "source": [
    "# Merging weather data and taxi data\n",
    "\n",
    "df = df.withColumn('hour', hour('tpep_pickup_datetime'))\n",
    "weather_df = weather_df \\\n",
    "    .withColumn('year', year('datetime')) \\\n",
    "    .withColumn('month', month('datetime')) \\\n",
    "    .withColumn('date', dayofmonth('datetime')) \\\n",
    "    .withColumn('hour', hour('datetime')) \\\n",
    "\n",
    "final_df = df.join(weather_df, on=['year', 'month', 'date', 'hour'], how='inner')"
   ]
  },
  {
   "cell_type": "code",
   "execution_count": null,
   "metadata": {
    "application/vnd.databricks.v1+cell": {
     "cellMetadata": {
      "byteLimit": 2048000,
      "rowLimit": 10000
     },
     "inputWidgets": {},
     "nuid": "01352913-5b34-44d2-a27a-be0b80677e59",
     "showTitle": false,
     "title": ""
    }
   },
   "outputs": [
    {
     "name": "stdout",
     "output_type": "stream",
     "text": [
      "root\n",
      " |-- year: integer (nullable = true)\n",
      " |-- month: integer (nullable = true)\n",
      " |-- date: integer (nullable = true)\n",
      " |-- hour: integer (nullable = true)\n",
      " |-- tpep_pickup_datetime: timestamp_ntz (nullable = true)\n",
      " |-- tpep_dropoff_datetime: timestamp_ntz (nullable = true)\n",
      " |-- passenger_count: double (nullable = true)\n",
      " |-- trip_distance: double (nullable = true)\n",
      " |-- PULocationID: long (nullable = true)\n",
      " |-- DOLocationID: long (nullable = true)\n",
      " |-- payment_type: double (nullable = true)\n",
      " |-- total_amount: double (nullable = true)\n",
      " |-- trip_duration: long (nullable = true)\n",
      " |-- weekend: integer (nullable = false)\n",
      " |-- temp: double (nullable = true)\n",
      " |-- dew: double (nullable = true)\n",
      " |-- humidity: double (nullable = true)\n",
      " |-- windspeed: double (nullable = true)\n",
      " |-- visibility: double (nullable = true)\n",
      "\n"
     ]
    }
   ],
   "source": [
    "final_df = final_df.drop('datetime')\n",
    "final_df.printSchema()"
   ]
  },
  {
   "cell_type": "code",
   "execution_count": null,
   "metadata": {
    "application/vnd.databricks.v1+cell": {
     "cellMetadata": {
      "byteLimit": 2048000,
      "rowLimit": 10000
     },
     "inputWidgets": {},
     "nuid": "fa0da223-1450-4402-8315-10c4316bbf05",
     "showTitle": false,
     "title": ""
    }
   },
   "outputs": [],
   "source": [
    "# Saving the merged final dataset to new S3 directory\n",
    "\n",
    "PATH = \"s3://data228/final-data/\"\n",
    "final_df.coalesce(1).write.parquet(PATH, mode='overwrite')"
   ]
  }
 ],
 "metadata": {
  "application/vnd.databricks.v1+notebook": {
   "dashboards": [],
   "language": "python",
   "notebookMetadata": {
    "pythonIndentUnit": 4
   },
   "notebookName": "etl-script (taxi+weather)",
   "widgets": {}
  },
  "language_info": {
   "name": "python"
  }
 },
 "nbformat": 4,
 "nbformat_minor": 0
}
