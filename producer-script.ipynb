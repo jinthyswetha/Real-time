{
 "cells": [
  {
   "cell_type": "code",
   "execution_count": null,
   "metadata": {
    "application/vnd.databricks.v1+cell": {
     "cellMetadata": {
      "byteLimit": 2048000,
      "rowLimit": 10000
     },
     "inputWidgets": {},
     "nuid": "4410c24c-5d66-4f4f-b170-cbdd4f291e18",
     "showTitle": false,
     "title": ""
    }
   },
   "outputs": [
    {
     "name": "stdout",
     "output_type": "stream",
     "text": [
      "Collecting kafka-python\r\n",
      "  Downloading kafka_python-2.0.2-py2.py3-none-any.whl (246 kB)\r\n",
      "\u001b[?25l     \u001b[90m━━━━━━━━━━━━━━━━━━━━━━━━━━━━━━━━━━━━━━━━\u001b[0m \u001b[32m0.0/246.5 kB\u001b[0m \u001b[31m?\u001b[0m eta \u001b[36m-:--:--\u001b[0m\r\u001b[2K     \u001b[91m━━━━━━━━━━━━━\u001b[0m\u001b[90m╺\u001b[0m\u001b[90m━━━━━━━━━━━━━━━━━━━━━━━━━━\u001b[0m \u001b[32m81.9/246.5 kB\u001b[0m \u001b[31m2.3 MB/s\u001b[0m eta \u001b[36m0:00:01\u001b[0m\r\u001b[2K     \u001b[90m━━━━━━━━━━━━━━━━━━━━━━━━━━━━━━━━━━━━━━━\u001b[0m \u001b[32m246.5/246.5 kB\u001b[0m \u001b[31m4.6 MB/s\u001b[0m eta \u001b[36m0:00:00\u001b[0m\r\n",
      "\u001b[?25hInstalling collected packages: kafka-python\r\n",
      "Successfully installed kafka-python-2.0.2\r\n",
      "\r\n",
      "\u001b[1m[\u001b[0m\u001b[34;49mnotice\u001b[0m\u001b[1;39;49m]\u001b[0m\u001b[39;49m A new release of pip available: \u001b[0m\u001b[31;49m22.2.2\u001b[0m\u001b[39;49m -> \u001b[0m\u001b[32;49m23.3.1\u001b[0m\r\n",
      "\u001b[1m[\u001b[0m\u001b[34;49mnotice\u001b[0m\u001b[1;39;49m]\u001b[0m\u001b[39;49m To update, run: \u001b[0m\u001b[32;49mpip install --upgrade pip\u001b[0m\r\n"
     ]
    }
   ],
   "source": [
    "!pip install kafka-python \n",
    "import os\n",
    "import time\n",
    "import json\n",
    "from kafka import KafkaProducer \n",
    "from pyspark.sql import SparkSession"
   ]
  },
  {
   "cell_type": "code",
   "execution_count": null,
   "metadata": {
    "application/vnd.databricks.v1+cell": {
     "cellMetadata": {
      "byteLimit": 2048000,
      "rowLimit": 10000
     },
     "inputWidgets": {},
     "nuid": "ce0c20c4-4750-425e-ba2c-a56f55b5dea2",
     "showTitle": false,
     "title": ""
    }
   },
   "outputs": [],
   "source": [
    "spark = SparkSession.builder.appName('Producer').getOrCreate()\n",
    "\n",
    "# Setting AWS Access Credentials\n",
    "spark.conf.set(\"fs.s3a.access.key\", str(os.environ['AWS_ACCESS_KEY']))\n",
    "spark.conf.set(\"fs.s3a.secret.key\", str(os.environ['AWS_SECRET_ACCESS_KEY']))\n",
    "spark.conf.set(\"fs.s3a.endpoint\", \"s3.amazonaws.com\")"
   ]
  },
  {
   "cell_type": "code",
   "execution_count": null,
   "metadata": {
    "application/vnd.databricks.v1+cell": {
     "cellMetadata": {
      "byteLimit": 2048000,
      "rowLimit": 10000
     },
     "inputWidgets": {},
     "nuid": "58b4bf2b-c17b-43c7-977d-eb8fbdd43cf7",
     "showTitle": false,
     "title": ""
    }
   },
   "outputs": [],
   "source": [
    "df = spark.read.parquet('s3://data228/stream-data/yellow-taxi/')\n",
    "cached_df = df.cache()"
   ]
  },
  {
   "cell_type": "code",
   "execution_count": null,
   "metadata": {
    "application/vnd.databricks.v1+cell": {
     "cellMetadata": {
      "byteLimit": 2048000,
      "rowLimit": 10000
     },
     "inputWidgets": {},
     "nuid": "93f983a7-5792-4ca8-a720-fff315fab8cf",
     "showTitle": false,
     "title": ""
    }
   },
   "outputs": [
    {
     "name": "stdout",
     "output_type": "stream",
     "text": [
      "Sent record 1\n",
      "Sent record 2\n",
      "Sent record 3\n",
      "Sent record 4\n",
      "Sent record 5\n",
      "Sent record 6\n",
      "Sent record 7\n",
      "Sent record 8\n",
      "Sent record 9\n",
      "Sent record 10\n",
      "Sent record 11\n",
      "Sent record 12\n",
      "Sent record 13\n",
      "Sent record 14\n",
      "Sent record 15\n",
      "Sent record 16\n",
      "Sent record 17\n",
      "Sent record 18\n",
      "Sent record 19\n",
      "Sent record 20\n",
      "Sent record 21\n",
      "Sent record 22\n",
      "Sent record 23\n",
      "Sent record 24\n",
      "Sent record 25\n",
      "Sent record 26\n",
      "Sent record 27\n",
      "Sent record 28\n",
      "Sent record 29\n",
      "Sent record 30\n",
      "Sent record 31\n",
      "Sent record 32\n",
      "Sent record 33\n",
      "Sent record 34\n",
      "Sent record 35\n",
      "Sent record 36\n",
      "Sent record 37\n",
      "Sent record 38\n",
      "Sent record 39\n",
      "Sent record 40\n",
      "Sent record 41\n",
      "Sent record 42\n",
      "Sent record 43\n",
      "Sent record 44\n",
      "Sent record 45\n",
      "Sent record 46\n",
      "Sent record 47\n",
      "Sent record 48\n",
      "Sent record 49\n",
      "Sent record 50\n"
     ]
    },
    {
     "data": {
      "text/html": [
       "<style scoped>\n",
       "  .ansiout {\n",
       "    display: block;\n",
       "    unicode-bidi: embed;\n",
       "    white-space: pre-wrap;\n",
       "    word-wrap: break-word;\n",
       "    word-break: break-all;\n",
       "    font-family: \"Menlo\", \"Monaco\", \"Consolas\", \"Ubuntu Mono\", \"Source Code Pro\", monospace;\n",
       "    font-size: 13px;\n",
       "    color: #555;\n",
       "    margin-left: 4px;\n",
       "    line-height: 19px;\n",
       "  }\n",
       "</style>"
      ]
     },
     "metadata": {
      "application/vnd.databricks.v1+output": {
       "arguments": {},
       "data": "",
       "errorSummary": "Cancelled",
       "errorTraceType": "html",
       "metadata": {},
       "type": "ipynbError"
      }
     },
     "output_type": "display_data"
    }
   ],
   "source": [
    "TOPIC = \"taxi-trips-topic\"\n",
    "BROKER_IP = '34.209.9.254:9092'\n",
    "producer = KafkaProducer(bootstrap_servers=[BROKER_IP], value_serializer=lambda v: json.dumps(v, default=str).encode('utf-8'))\n",
    "\n",
    "i = 1\n",
    "# Send each record for every 10 seconds to the kafka topic \n",
    "for record in cached_df.collect():\n",
    "    producer.send(TOPIC, value=record.asDict())\n",
    "    print(f\"Sent record {i}\")\n",
    "    i += 1\n",
    "    time.sleep(5)"
   ]
  },
  {
   "cell_type": "code",
   "execution_count": null,
   "metadata": {
    "application/vnd.databricks.v1+cell": {
     "cellMetadata": {},
     "inputWidgets": {},
     "nuid": "1bebfee7-b1d4-4ce3-aa4c-5be51157fca1",
     "showTitle": false,
     "title": ""
    }
   },
   "outputs": [],
   "source": []
  }
 ],
 "metadata": {
  "application/vnd.databricks.v1+notebook": {
   "dashboards": [],
   "language": "python",
   "notebookMetadata": {
    "pythonIndentUnit": 4
   },
   "notebookName": "producer-script",
   "widgets": {}
  },
  "language_info": {
   "name": "python"
  }
 },
 "nbformat": 4,
 "nbformat_minor": 0
}
